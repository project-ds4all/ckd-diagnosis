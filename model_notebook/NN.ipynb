{
 "cells": [
  {
   "cell_type": "markdown",
   "metadata": {
    "colab_type": "text",
    "id": "55ncGc2sLqgZ"
   },
   "source": [
    "## ERC NN ESTIMATION\n",
    "\n",
    "First Approach to NN probabilities estimation. \n",
    "Based on the data base used in \"Explainable Prediction of Chronic Renal Disease in the Colombian Population using Neural\n",
    "Networks and Case-Based Reasoning\"\n",
    "\n",
    "\n"
   ]
  },
  {
   "cell_type": "markdown",
   "metadata": {
    "colab_type": "text",
    "id": "YboKSK84Lqgb"
   },
   "source": [
    "IMPORT THE REQUIRED MODULES"
   ]
  },
  {
   "cell_type": "code",
   "execution_count": null,
   "metadata": {
    "colab": {},
    "colab_type": "code",
    "id": "pfI6wQ_8Lqgb",
    "outputId": "843ea2b6-a261-4b5f-8352-eeae3fefc28c"
   },
   "outputs": [
    {
     "name": "stdout",
     "output_type": "stream",
     "text": [
      "Requirement already satisfied: plotly==4.8.2 in c:\\conda\\lib\\site-packages (4.8.2)\n",
      "Requirement already satisfied: retrying>=1.3.3 in c:\\conda\\lib\\site-packages (from plotly==4.8.2) (1.3.3)\n",
      "Requirement already satisfied: six in c:\\conda\\lib\\site-packages (from plotly==4.8.2) (1.14.0)\n",
      "Note: you may need to restart the kernel to use updated packages.\n"
     ]
    }
   ],
   "source": [
    "pip install plotly==4.8.2"
   ]
  },
  {
   "cell_type": "code",
   "execution_count": 1,
   "metadata": {
    "colab": {
     "base_uri": "https://localhost:8080/",
     "height": 71
    },
    "colab_type": "code",
    "executionInfo": {
     "elapsed": 3864,
     "status": "ok",
     "timestamp": 1595281450068,
     "user": {
      "displayName": "Juan Sebastian Hernandez",
      "photoUrl": "",
      "userId": "03945586702203628633"
     },
     "user_tz": 300
    },
    "id": "xzSBFChYLqgg",
    "outputId": "c71b1d1b-e87b-4899-8728-0b0dde5e4795"
   },
   "outputs": [
    {
     "name": "stderr",
     "output_type": "stream",
     "text": [
      "/usr/local/lib/python3.6/dist-packages/statsmodels/tools/_testing.py:19: FutureWarning: pandas.util.testing is deprecated. Use the functions in the public API at pandas.testing instead.\n",
      "  import pandas.util.testing as tm\n"
     ]
    }
   ],
   "source": [
    "from sklearn.datasets import make_classification\n",
    "from sklearn.linear_model import LogisticRegression\n",
    "from sklearn.model_selection import train_test_split\n",
    "from sklearn.metrics import confusion_matrix\n",
    "import pandas as pd\n",
    "\n",
    "import json\n",
    "import requests\n",
    "from bs4 import BeautifulSoup\n",
    "import matplotlib.pyplot as plt\n",
    "import seaborn as sns\n",
    "import numpy as np\n",
    "import statsmodels.api as sm\n",
    "import pickle\n",
    "\n",
    "import plotly.express as px"
   ]
  },
  {
   "cell_type": "code",
   "execution_count": 2,
   "metadata": {
    "colab": {},
    "colab_type": "code",
    "executionInfo": {
     "elapsed": 861,
     "status": "ok",
     "timestamp": 1595281467001,
     "user": {
      "displayName": "Juan Sebastian Hernandez",
      "photoUrl": "",
      "userId": "03945586702203628633"
     },
     "user_tz": 300
    },
    "id": "UuUn-lhrLqgk"
   },
   "outputs": [],
   "source": [
    "from sklearn.neural_network import MLPClassifier\n",
    "from sklearn.datasets import make_classification\n",
    "from sklearn.model_selection import train_test_split"
   ]
  },
  {
   "cell_type": "markdown",
   "metadata": {
    "colab_type": "text",
    "id": "UxBXa-GbLqgn"
   },
   "source": [
    "IMPORT THE DATASET"
   ]
  },
  {
   "cell_type": "code",
   "execution_count": null,
   "metadata": {
    "colab": {},
    "colab_type": "code",
    "id": "WjZeDuOJLqgo",
    "outputId": "fdaa3035-1f81-4d41-a800-2108f7039198",
    "scrolled": true
   },
   "outputs": [
    {
     "data": {
      "text/html": [
       "<div>\n",
       "<style scoped>\n",
       "    .dataframe tbody tr th:only-of-type {\n",
       "        vertical-align: middle;\n",
       "    }\n",
       "\n",
       "    .dataframe tbody tr th {\n",
       "        vertical-align: top;\n",
       "    }\n",
       "\n",
       "    .dataframe thead th {\n",
       "        text-align: right;\n",
       "    }\n",
       "</style>\n",
       "<table border=\"1\" class=\"dataframe\">\n",
       "  <thead>\n",
       "    <tr style=\"text-align: right;\">\n",
       "      <th></th>\n",
       "      <th>PersonaID</th>\n",
       "      <th>Sexo</th>\n",
       "      <th>Edad</th>\n",
       "      <th>Etnia</th>\n",
       "      <th>Departamento</th>\n",
       "      <th>ERC</th>\n",
       "      <th>A084</th>\n",
       "      <th>A09X</th>\n",
       "      <th>B029</th>\n",
       "      <th>B07X</th>\n",
       "      <th>...</th>\n",
       "      <th>R635</th>\n",
       "      <th>R739</th>\n",
       "      <th>S025</th>\n",
       "      <th>S202</th>\n",
       "      <th>S400</th>\n",
       "      <th>S800</th>\n",
       "      <th>S934</th>\n",
       "      <th>T784</th>\n",
       "      <th>T888</th>\n",
       "      <th>Y849</th>\n",
       "    </tr>\n",
       "  </thead>\n",
       "  <tbody>\n",
       "    <tr>\n",
       "      <th>0</th>\n",
       "      <td>9529519</td>\n",
       "      <td>M</td>\n",
       "      <td>70</td>\n",
       "      <td>NINGUNA</td>\n",
       "      <td>BOGOTA_DC</td>\n",
       "      <td>1</td>\n",
       "      <td>0</td>\n",
       "      <td>0</td>\n",
       "      <td>0</td>\n",
       "      <td>0</td>\n",
       "      <td>...</td>\n",
       "      <td>0</td>\n",
       "      <td>0</td>\n",
       "      <td>0</td>\n",
       "      <td>0</td>\n",
       "      <td>0</td>\n",
       "      <td>0</td>\n",
       "      <td>0</td>\n",
       "      <td>0</td>\n",
       "      <td>0</td>\n",
       "      <td>1</td>\n",
       "    </tr>\n",
       "    <tr>\n",
       "      <th>1</th>\n",
       "      <td>29643113</td>\n",
       "      <td>M</td>\n",
       "      <td>58</td>\n",
       "      <td>NINGUNA</td>\n",
       "      <td>BOGOTA_DC</td>\n",
       "      <td>1</td>\n",
       "      <td>0</td>\n",
       "      <td>0</td>\n",
       "      <td>0</td>\n",
       "      <td>0</td>\n",
       "      <td>...</td>\n",
       "      <td>0</td>\n",
       "      <td>0</td>\n",
       "      <td>0</td>\n",
       "      <td>0</td>\n",
       "      <td>0</td>\n",
       "      <td>0</td>\n",
       "      <td>0</td>\n",
       "      <td>0</td>\n",
       "      <td>0</td>\n",
       "      <td>0</td>\n",
       "    </tr>\n",
       "    <tr>\n",
       "      <th>2</th>\n",
       "      <td>78665144</td>\n",
       "      <td>F</td>\n",
       "      <td>29</td>\n",
       "      <td>NINGUNA</td>\n",
       "      <td>ANTIOQUIA</td>\n",
       "      <td>1</td>\n",
       "      <td>0</td>\n",
       "      <td>0</td>\n",
       "      <td>0</td>\n",
       "      <td>0</td>\n",
       "      <td>...</td>\n",
       "      <td>0</td>\n",
       "      <td>0</td>\n",
       "      <td>0</td>\n",
       "      <td>0</td>\n",
       "      <td>0</td>\n",
       "      <td>0</td>\n",
       "      <td>1</td>\n",
       "      <td>1</td>\n",
       "      <td>0</td>\n",
       "      <td>0</td>\n",
       "    </tr>\n",
       "    <tr>\n",
       "      <th>3</th>\n",
       "      <td>29816474</td>\n",
       "      <td>M</td>\n",
       "      <td>81</td>\n",
       "      <td>NINGUNA</td>\n",
       "      <td>BOGOTA_DC</td>\n",
       "      <td>1</td>\n",
       "      <td>0</td>\n",
       "      <td>0</td>\n",
       "      <td>0</td>\n",
       "      <td>0</td>\n",
       "      <td>...</td>\n",
       "      <td>0</td>\n",
       "      <td>0</td>\n",
       "      <td>0</td>\n",
       "      <td>0</td>\n",
       "      <td>0</td>\n",
       "      <td>0</td>\n",
       "      <td>0</td>\n",
       "      <td>0</td>\n",
       "      <td>0</td>\n",
       "      <td>0</td>\n",
       "    </tr>\n",
       "    <tr>\n",
       "      <th>4</th>\n",
       "      <td>36281215</td>\n",
       "      <td>M</td>\n",
       "      <td>76</td>\n",
       "      <td>NINGUNA</td>\n",
       "      <td>BOGOTA_DC</td>\n",
       "      <td>1</td>\n",
       "      <td>0</td>\n",
       "      <td>0</td>\n",
       "      <td>0</td>\n",
       "      <td>0</td>\n",
       "      <td>...</td>\n",
       "      <td>0</td>\n",
       "      <td>0</td>\n",
       "      <td>1</td>\n",
       "      <td>0</td>\n",
       "      <td>0</td>\n",
       "      <td>0</td>\n",
       "      <td>0</td>\n",
       "      <td>0</td>\n",
       "      <td>0</td>\n",
       "      <td>1</td>\n",
       "    </tr>\n",
       "    <tr>\n",
       "      <th>...</th>\n",
       "      <td>...</td>\n",
       "      <td>...</td>\n",
       "      <td>...</td>\n",
       "      <td>...</td>\n",
       "      <td>...</td>\n",
       "      <td>...</td>\n",
       "      <td>...</td>\n",
       "      <td>...</td>\n",
       "      <td>...</td>\n",
       "      <td>...</td>\n",
       "      <td>...</td>\n",
       "      <td>...</td>\n",
       "      <td>...</td>\n",
       "      <td>...</td>\n",
       "      <td>...</td>\n",
       "      <td>...</td>\n",
       "      <td>...</td>\n",
       "      <td>...</td>\n",
       "      <td>...</td>\n",
       "      <td>...</td>\n",
       "      <td>...</td>\n",
       "    </tr>\n",
       "    <tr>\n",
       "      <th>39995</th>\n",
       "      <td>8964043</td>\n",
       "      <td>F</td>\n",
       "      <td>52</td>\n",
       "      <td>OTRAS_ETNIAS</td>\n",
       "      <td>ANTIOQUIA</td>\n",
       "      <td>0</td>\n",
       "      <td>0</td>\n",
       "      <td>0</td>\n",
       "      <td>0</td>\n",
       "      <td>0</td>\n",
       "      <td>...</td>\n",
       "      <td>0</td>\n",
       "      <td>0</td>\n",
       "      <td>0</td>\n",
       "      <td>0</td>\n",
       "      <td>0</td>\n",
       "      <td>0</td>\n",
       "      <td>0</td>\n",
       "      <td>0</td>\n",
       "      <td>0</td>\n",
       "      <td>0</td>\n",
       "    </tr>\n",
       "    <tr>\n",
       "      <th>39996</th>\n",
       "      <td>123121653</td>\n",
       "      <td>M</td>\n",
       "      <td>22</td>\n",
       "      <td>NINGUNA</td>\n",
       "      <td>CESAR</td>\n",
       "      <td>0</td>\n",
       "      <td>0</td>\n",
       "      <td>0</td>\n",
       "      <td>0</td>\n",
       "      <td>0</td>\n",
       "      <td>...</td>\n",
       "      <td>0</td>\n",
       "      <td>0</td>\n",
       "      <td>0</td>\n",
       "      <td>0</td>\n",
       "      <td>0</td>\n",
       "      <td>0</td>\n",
       "      <td>0</td>\n",
       "      <td>0</td>\n",
       "      <td>0</td>\n",
       "      <td>0</td>\n",
       "    </tr>\n",
       "    <tr>\n",
       "      <th>39997</th>\n",
       "      <td>39911133</td>\n",
       "      <td>M</td>\n",
       "      <td>46</td>\n",
       "      <td>NINGUNA</td>\n",
       "      <td>NARINO</td>\n",
       "      <td>0</td>\n",
       "      <td>0</td>\n",
       "      <td>1</td>\n",
       "      <td>0</td>\n",
       "      <td>0</td>\n",
       "      <td>...</td>\n",
       "      <td>0</td>\n",
       "      <td>0</td>\n",
       "      <td>0</td>\n",
       "      <td>0</td>\n",
       "      <td>0</td>\n",
       "      <td>0</td>\n",
       "      <td>0</td>\n",
       "      <td>0</td>\n",
       "      <td>0</td>\n",
       "      <td>0</td>\n",
       "    </tr>\n",
       "    <tr>\n",
       "      <th>39998</th>\n",
       "      <td>49230066</td>\n",
       "      <td>F</td>\n",
       "      <td>38</td>\n",
       "      <td>NINGUNA</td>\n",
       "      <td>BOGOTA_DC</td>\n",
       "      <td>0</td>\n",
       "      <td>0</td>\n",
       "      <td>0</td>\n",
       "      <td>0</td>\n",
       "      <td>0</td>\n",
       "      <td>...</td>\n",
       "      <td>0</td>\n",
       "      <td>0</td>\n",
       "      <td>0</td>\n",
       "      <td>0</td>\n",
       "      <td>0</td>\n",
       "      <td>0</td>\n",
       "      <td>0</td>\n",
       "      <td>0</td>\n",
       "      <td>0</td>\n",
       "      <td>0</td>\n",
       "    </tr>\n",
       "    <tr>\n",
       "      <th>39999</th>\n",
       "      <td>17031399</td>\n",
       "      <td>M</td>\n",
       "      <td>62</td>\n",
       "      <td>NINGUNA</td>\n",
       "      <td>BOLIVAR</td>\n",
       "      <td>0</td>\n",
       "      <td>0</td>\n",
       "      <td>0</td>\n",
       "      <td>0</td>\n",
       "      <td>0</td>\n",
       "      <td>...</td>\n",
       "      <td>1</td>\n",
       "      <td>0</td>\n",
       "      <td>0</td>\n",
       "      <td>0</td>\n",
       "      <td>0</td>\n",
       "      <td>0</td>\n",
       "      <td>0</td>\n",
       "      <td>0</td>\n",
       "      <td>0</td>\n",
       "      <td>0</td>\n",
       "    </tr>\n",
       "  </tbody>\n",
       "</table>\n",
       "<p>40000 rows × 275 columns</p>\n",
       "</div>"
      ],
      "text/plain": [
       "       PersonaID Sexo  Edad         Etnia Departamento  ERC  A084  A09X  B029  \\\n",
       "0        9529519    M    70       NINGUNA    BOGOTA_DC    1     0     0     0   \n",
       "1       29643113    M    58       NINGUNA    BOGOTA_DC    1     0     0     0   \n",
       "2       78665144    F    29       NINGUNA    ANTIOQUIA    1     0     0     0   \n",
       "3       29816474    M    81       NINGUNA    BOGOTA_DC    1     0     0     0   \n",
       "4       36281215    M    76       NINGUNA    BOGOTA_DC    1     0     0     0   \n",
       "...          ...  ...   ...           ...          ...  ...   ...   ...   ...   \n",
       "39995    8964043    F    52  OTRAS_ETNIAS    ANTIOQUIA    0     0     0     0   \n",
       "39996  123121653    M    22       NINGUNA        CESAR    0     0     0     0   \n",
       "39997   39911133    M    46       NINGUNA       NARINO    0     0     1     0   \n",
       "39998   49230066    F    38       NINGUNA    BOGOTA_DC    0     0     0     0   \n",
       "39999   17031399    M    62       NINGUNA      BOLIVAR    0     0     0     0   \n",
       "\n",
       "       B07X  ...  R635  R739  S025  S202  S400  S800  S934  T784  T888  Y849  \n",
       "0         0  ...     0     0     0     0     0     0     0     0     0     1  \n",
       "1         0  ...     0     0     0     0     0     0     0     0     0     0  \n",
       "2         0  ...     0     0     0     0     0     0     1     1     0     0  \n",
       "3         0  ...     0     0     0     0     0     0     0     0     0     0  \n",
       "4         0  ...     0     0     1     0     0     0     0     0     0     1  \n",
       "...     ...  ...   ...   ...   ...   ...   ...   ...   ...   ...   ...   ...  \n",
       "39995     0  ...     0     0     0     0     0     0     0     0     0     0  \n",
       "39996     0  ...     0     0     0     0     0     0     0     0     0     0  \n",
       "39997     0  ...     0     0     0     0     0     0     0     0     0     0  \n",
       "39998     0  ...     0     0     0     0     0     0     0     0     0     0  \n",
       "39999     0  ...     1     0     0     0     0     0     0     0     0     0  \n",
       "\n",
       "[40000 rows x 275 columns]"
      ]
     },
     "execution_count": 14,
     "metadata": {
      "tags": []
     },
     "output_type": "execute_result"
    }
   ],
   "source": [
    "df = pd.read_csv(\"./DatasetERC/Base_ERC_Clean.csv\",sep=\";\")\n",
    "\n",
    "df\n"
   ]
  },
  {
   "cell_type": "markdown",
   "metadata": {},
   "source": [
    "The variables of the dataset are the following:"
   ]
  },
  {
   "cell_type": "code",
   "execution_count": null,
   "metadata": {},
   "outputs": [],
   "source": [
    "df.columns"
   ]
  },
  {
   "cell_type": "code",
   "execution_count": null,
   "metadata": {
    "colab": {},
    "colab_type": "code",
    "id": "0H7oGp8oLqgr",
    "outputId": "a2958557-fe97-410d-c0a6-6f025d94a5bc",
    "scrolled": true
   },
   "outputs": [
    {
     "data": {
      "text/plain": [
       "PersonaID        int64\n",
       "Sexo            object\n",
       "Edad             int64\n",
       "Etnia           object\n",
       "Departamento    object\n",
       "ERC              int64\n",
       "A084             int64\n",
       "A09X             int64\n",
       "B029             int64\n",
       "B07X             int64\n",
       "B349             int64\n",
       "B351             int64\n",
       "B369             int64\n",
       "B49X             int64\n",
       "B829             int64\n",
       "C509             int64\n",
       "D259             int64\n",
       "D509             int64\n",
       "D649             int64\n",
       "E039             int64\n",
       "E102             int64\n",
       "E106             int64\n",
       "E107             int64\n",
       "E108             int64\n",
       "E109             int64\n",
       "E116             int64\n",
       "E118             int64\n",
       "E119             int64\n",
       "E139             int64\n",
       "E149             int64\n",
       "E162             int64\n",
       "E660             int64\n",
       "E669             int64\n",
       "E780             int64\n",
       "E781             int64\n",
       "E782             int64\n",
       "E784             int64\n",
       "E785             int64\n",
       "F321             int64\n",
       "F412             int64\n",
       "F419             int64\n",
       "F840             int64\n",
       "F900             int64\n",
       "F949             int64\n",
       "G430             int64\n",
       "G439             int64\n",
       "G442             int64\n",
       "G448             int64\n",
       "G470             int64\n",
       "G473             int64\n",
       "G560             int64\n",
       "H010             int64\n",
       "H101             int64\n",
       "H103             int64\n",
       "H104             int64\n",
       "H109             int64\n",
       "H110             int64\n",
       "H250             int64\n",
       "H251             int64\n",
       "H259             int64\n",
       "H269             int64\n",
       "H353             int64\n",
       "H360             int64\n",
       "H400             int64\n",
       "H401             int64\n",
       "H409             int64\n",
       "H520             int64\n",
       "H521             int64\n",
       "H522             int64\n",
       "H524             int64\n",
       "H526             int64\n",
       "H527             int64\n",
       "H539             int64\n",
       "H547             int64\n",
       "H571             int64\n",
       "H578             int64\n",
       "H579             int64\n",
       "H609             int64\n",
       "H612             int64\n",
       "H669             int64\n",
       "H811             int64\n",
       "H813             int64\n",
       "H814             int64\n",
       "H82X             int64\n",
       "H903             int64\n",
       "H905             int64\n",
       "H919             int64\n",
       "H920             int64\n",
       "H931             int64\n",
       "I10X             int64\n",
       "I119             int64\n",
       "I120             int64\n",
       "I129             int64\n",
       "I200             int64\n",
       "I209             int64\n",
       "I219             int64\n",
       "I251             int64\n",
       "I255             int64\n",
       "I48X             int64\n",
       "I499             int64\n",
       "I500             int64\n",
       "I509             int64\n",
       "I679             int64\n",
       "I831             int64\n",
       "I839             int64\n",
       "I842             int64\n",
       "I845             int64\n",
       "I868             int64\n",
       "I872             int64\n",
       "J00X             int64\n",
       "J018             int64\n",
       "J019             int64\n",
       "J029             int64\n",
       "J039             int64\n",
       "J040             int64\n",
       "J069             int64\n",
       "J159             int64\n",
       "J180             int64\n",
       "J189             int64\n",
       "J209             int64\n",
       "J219             int64\n",
       "J22X             int64\n",
       "J303             int64\n",
       "J304             int64\n",
       "J310             int64\n",
       "J312             int64\n",
       "J329             int64\n",
       "J370             int64\n",
       "J42X             int64\n",
       "J441             int64\n",
       "J449             int64\n",
       "J459             int64\n",
       "K010             int64\n",
       "K020             int64\n",
       "K021             int64\n",
       "K028             int64\n",
       "K029             int64\n",
       "K031             int64\n",
       "K036             int64\n",
       "K038             int64\n",
       "K040             int64\n",
       "K041             int64\n",
       "K045             int64\n",
       "K050             int64\n",
       "K051             int64\n",
       "K053             int64\n",
       "K076             int64\n",
       "K081             int64\n",
       "K083             int64\n",
       "K089             int64\n",
       "K210             int64\n",
       "K219             int64\n",
       "K291             int64\n",
       "K293             int64\n",
       "K295             int64\n",
       "K296             int64\n",
       "K297             int64\n",
       "K30X             int64\n",
       "K409             int64\n",
       "K429             int64\n",
       "K529             int64\n",
       "K580             int64\n",
       "K589             int64\n",
       "K590             int64\n",
       "K591             int64\n",
       "K802             int64\n",
       "K808             int64\n",
       "K922             int64\n",
       "L028             int64\n",
       "L029             int64\n",
       "L031             int64\n",
       "L038             int64\n",
       "L039             int64\n",
       "L209             int64\n",
       "L239             int64\n",
       "L309             int64\n",
       "L500             int64\n",
       "L570             int64\n",
       "L600             int64\n",
       "L82X             int64\n",
       "M069             int64\n",
       "M130             int64\n",
       "M139             int64\n",
       "M150             int64\n",
       "M159             int64\n",
       "M169             int64\n",
       "M170             int64\n",
       "M179             int64\n",
       "M190             int64\n",
       "M199             int64\n",
       "M238             int64\n",
       "M239             int64\n",
       "M255             int64\n",
       "M350             int64\n",
       "M419             int64\n",
       "M511             int64\n",
       "M541             int64\n",
       "M542             int64\n",
       "M544             int64\n",
       "M545             int64\n",
       "M546             int64\n",
       "M548             int64\n",
       "M549             int64\n",
       "M624             int64\n",
       "M751             int64\n",
       "M754             int64\n",
       "M755             int64\n",
       "M771             int64\n",
       "M773             int64\n",
       "M791             int64\n",
       "M792             int64\n",
       "M796             int64\n",
       "M810             int64\n",
       "M819             int64\n",
       "M939             int64\n",
       "M940             int64\n",
       "N200             int64\n",
       "N209             int64\n",
       "N23X             int64\n",
       "N300             int64\n",
       "N309             int64\n",
       "N359             int64\n",
       "N390             int64\n",
       "N393             int64\n",
       "N40X             int64\n",
       "N63X             int64\n",
       "N644             int64\n",
       "N760             int64\n",
       "N771             int64\n",
       "N811             int64\n",
       "N870             int64\n",
       "N912             int64\n",
       "N939             int64\n",
       "N951             int64\n",
       "R000             int64\n",
       "R002             int64\n",
       "R030             int64\n",
       "R040             int64\n",
       "R05X             int64\n",
       "R060             int64\n",
       "R071             int64\n",
       "R072             int64\n",
       "R073             int64\n",
       "R074             int64\n",
       "R101             int64\n",
       "R102             int64\n",
       "R103             int64\n",
       "R104             int64\n",
       "R11X             int64\n",
       "R252             int64\n",
       "R300             int64\n",
       "R31X             int64\n",
       "R32X             int64\n",
       "R42X             int64\n",
       "R490             int64\n",
       "R509             int64\n",
       "R51X             int64\n",
       "R520             int64\n",
       "R521             int64\n",
       "R522             int64\n",
       "R53X             int64\n",
       "R55X             int64\n",
       "R600             int64\n",
       "R609             int64\n",
       "R634             int64\n",
       "R635             int64\n",
       "R739             int64\n",
       "S025             int64\n",
       "S202             int64\n",
       "S400             int64\n",
       "S800             int64\n",
       "S934             int64\n",
       "T784             int64\n",
       "T888             int64\n",
       "Y849             int64\n",
       "dtype: object"
      ]
     },
     "execution_count": 15,
     "metadata": {
      "tags": []
     },
     "output_type": "execute_result"
    }
   ],
   "source": [
    "pd.set_option('display.max_rows',8000)\n",
    "df.dtypes"
   ]
  },
  {
   "cell_type": "code",
   "execution_count": null,
   "metadata": {
    "colab": {},
    "colab_type": "code",
    "id": "kg4e_N3BLqgv"
   },
   "outputs": [],
   "source": [
    "# Define the independent variables\n",
    "ind_cols=[\"Edad\",\"E119\",\"M255\",\"N390\",\"I10X\",\"J449\",\"M542\",\"E109\",\"R104\",\"R51X\",\"I839\",\"R520\",\"H400\",\"M791\",\"M545\"]\n",
    "\n",
    "# Split the dataset into training and test dataset\n",
    "\n",
    "x=pd.DataFrame(df[ind_cols])\n",
    "y=pd.DataFrame(df[\"ERC\"])\n",
    "\n",
    "x_train, x_test, y_train, y_test = train_test_split(x, y, test_size=0.3)\n"
   ]
  },
  {
   "cell_type": "code",
   "execution_count": null,
   "metadata": {
    "colab": {},
    "colab_type": "code",
    "id": "yktN6fxOLqgy",
    "outputId": "1acda472-6927-4b16-c816-4f2b4137144e"
   },
   "outputs": [
    {
     "data": {
      "text/plain": [
       "(28000, 15)"
      ]
     },
     "execution_count": 20,
     "metadata": {
      "tags": []
     },
     "output_type": "execute_result"
    }
   ],
   "source": [
    "x_train.shape"
   ]
  },
  {
   "cell_type": "code",
   "execution_count": null,
   "metadata": {
    "colab": {},
    "colab_type": "code",
    "id": "lIPNY32-Lqg1",
    "outputId": "cb1b37e5-33f3-49e1-fb1d-bd0525d543c6"
   },
   "outputs": [
    {
     "name": "stderr",
     "output_type": "stream",
     "text": [
      "C:\\Conda\\lib\\site-packages\\sklearn\\neural_network\\_multilayer_perceptron.py:934: DataConversionWarning: A column-vector y was passed when a 1d array was expected. Please change the shape of y to (n_samples, ), for example using ravel().\n",
      "  y = column_or_1d(y, warn=True)\n",
      "C:\\Conda\\lib\\site-packages\\sklearn\\neural_network\\_multilayer_perceptron.py:571: ConvergenceWarning: Stochastic Optimizer: Maximum iterations (10) reached and the optimization hasn't converged yet.\n",
      "  % self.max_iter, ConvergenceWarning)\n"
     ]
    }
   ],
   "source": [
    "NN_1=MLPClassifier(hidden_layer_sizes=(500,100,50), \n",
    "                   activation='relu', \n",
    "                   solver='sgd', alpha=0.0001, \n",
    "                   batch_size='auto', learning_rate='constant', \n",
    "                   learning_rate_init=0.001, power_t=0.5, \n",
    "                   max_iter=10, shuffle=True, random_state=None,\n",
    "                   tol=0.0001, verbose=False, warm_start=False, \n",
    "                   momentum=0.9, nesterovs_momentum=True,\n",
    "                   early_stopping=False, validation_fraction=0.1, \n",
    "                   beta_1=0.9, beta_2=0.999, \n",
    "                   epsilon=1e-08, n_iter_no_change=10, max_fun=15000)\n",
    "\n",
    "NN1_result=NN_1.fit(x_train, y_train)"
   ]
  },
  {
   "cell_type": "code",
   "execution_count": null,
   "metadata": {
    "colab": {},
    "colab_type": "code",
    "id": "ZKXMWieWLqg4",
    "outputId": "c9dcd69a-261b-4b18-c573-874ada2700ef"
   },
   "outputs": [
    {
     "data": {
      "text/plain": [
       "0.85775"
      ]
     },
     "execution_count": 26,
     "metadata": {
      "tags": []
     },
     "output_type": "execute_result"
    }
   ],
   "source": [
    "NN1_result.score(x_test, y_test)"
   ]
  },
  {
   "cell_type": "code",
   "execution_count": null,
   "metadata": {
    "colab": {},
    "colab_type": "code",
    "id": "sWroKumYLqg7",
    "outputId": "01a48345-8eed-4973-ac12-9f90f241a5d1"
   },
   "outputs": [
    {
     "data": {
      "text/plain": [
       "array([[0.22330959, 0.77669041],\n",
       "       [0.94364644, 0.05635356],\n",
       "       [0.02520524, 0.97479476],\n",
       "       ...,\n",
       "       [0.93806655, 0.06193345],\n",
       "       [0.82608722, 0.17391278],\n",
       "       [0.91117361, 0.08882639]])"
      ]
     },
     "execution_count": 28,
     "metadata": {
      "tags": []
     },
     "output_type": "execute_result"
    }
   ],
   "source": [
    "NN1_result.predict_proba(x_test)"
   ]
  },
  {
   "cell_type": "code",
   "execution_count": null,
   "metadata": {
    "colab": {},
    "colab_type": "code",
    "id": "0moGSSjpLqg-"
   },
   "outputs": [],
   "source": [
    "# save the model to disk\n",
    "filename = 'NN1.pkl'\n",
    "pickle.dump(NN1_result, open(filename, 'wb'))"
   ]
  },
  {
   "cell_type": "code",
   "execution_count": null,
   "metadata": {
    "colab": {},
    "colab_type": "code",
    "id": "lIjh6cqRLqhB",
    "outputId": "20e8d1e6-126f-45d5-a17f-ea4bc912b87a"
   },
   "outputs": [
    {
     "name": "stdout",
     "output_type": "stream",
     "text": [
      "[[0.22330959 0.77669041]\n",
      " [0.94364644 0.05635356]\n",
      " [0.02520524 0.97479476]\n",
      " [0.19565069 0.80434931]\n",
      " [0.18115254 0.81884746]\n",
      " [0.94507045 0.05492955]\n",
      " [0.38333986 0.61666014]\n",
      " [0.34524481 0.65475519]\n",
      " [0.95472878 0.04527122]\n",
      " [0.08498288 0.91501712]]\n"
     ]
    }
   ],
   "source": [
    "# load the model from disk\n",
    "loaded_model = pickle.load(open(filename, 'rb'))\n",
    "result = loaded_model.predict_proba(x_test.head(10))\n",
    "print(result)"
   ]
  },
  {
   "cell_type": "code",
   "execution_count": null,
   "metadata": {
    "colab": {},
    "colab_type": "code",
    "id": "_Nh-o4CuLqhE"
   },
   "outputs": [],
   "source": [
    "# Define the independent variables\n",
    "ind_cols=[\"Edad\",\"E119\",\"M255\",\"N390\",\"I10X\"]\n",
    "\n",
    "# Split the dataset into training and test dataset\n",
    "\n",
    "x=pd.DataFrame(df[ind_cols])\n",
    "y=pd.DataFrame(df[\"ERC\"])\n",
    "\n",
    "x_train, x_test, y_train, y_test = train_test_split(x, y, test_size=0.3)\n"
   ]
  },
  {
   "cell_type": "code",
   "execution_count": null,
   "metadata": {
    "colab": {},
    "colab_type": "code",
    "id": "Hl6jles9LqhG",
    "outputId": "39ead8d2-a8e2-408c-f610-166471c5d180"
   },
   "outputs": [
    {
     "data": {
      "text/plain": [
       "(28000, 5)"
      ]
     },
     "execution_count": 35,
     "metadata": {
      "tags": []
     },
     "output_type": "execute_result"
    }
   ],
   "source": [
    "x_train.shape"
   ]
  },
  {
   "cell_type": "code",
   "execution_count": null,
   "metadata": {
    "colab": {},
    "colab_type": "code",
    "id": "45JZP8Z8LqhK",
    "outputId": "2060e6cd-4bf8-406f-cd2b-b527d3354e03"
   },
   "outputs": [
    {
     "name": "stderr",
     "output_type": "stream",
     "text": [
      "C:\\Conda\\lib\\site-packages\\sklearn\\neural_network\\_multilayer_perceptron.py:934: DataConversionWarning: A column-vector y was passed when a 1d array was expected. Please change the shape of y to (n_samples, ), for example using ravel().\n",
      "  y = column_or_1d(y, warn=True)\n",
      "C:\\Conda\\lib\\site-packages\\sklearn\\neural_network\\_multilayer_perceptron.py:571: ConvergenceWarning: Stochastic Optimizer: Maximum iterations (10) reached and the optimization hasn't converged yet.\n",
      "  % self.max_iter, ConvergenceWarning)\n"
     ]
    }
   ],
   "source": [
    "NN_2=MLPClassifier(hidden_layer_sizes=(500,100,50), \n",
    "                   activation='relu', \n",
    "                   solver='sgd', alpha=0.0001, \n",
    "                   batch_size='auto', learning_rate='constant', \n",
    "                   learning_rate_init=0.001, power_t=0.5, \n",
    "                   max_iter=10, shuffle=True, random_state=None,\n",
    "                   tol=0.0001, verbose=False, warm_start=False, \n",
    "                   momentum=0.9, nesterovs_momentum=True,\n",
    "                   early_stopping=False, validation_fraction=0.1, \n",
    "                   beta_1=0.9, beta_2=0.999, \n",
    "                   epsilon=1e-08, n_iter_no_change=10, max_fun=15000)\n",
    "\n",
    "NN2_result=NN_2.fit(x_train, y_train)"
   ]
  },
  {
   "cell_type": "code",
   "execution_count": null,
   "metadata": {
    "colab": {},
    "colab_type": "code",
    "id": "mGN8rrBCLqhN",
    "outputId": "7c900507-e579-4081-cfb9-2f7819a8a7f4"
   },
   "outputs": [
    {
     "data": {
      "text/plain": [
       "0.8235"
      ]
     },
     "execution_count": 37,
     "metadata": {
      "tags": []
     },
     "output_type": "execute_result"
    }
   ],
   "source": [
    "NN2_result.score(x_test, y_test)"
   ]
  },
  {
   "cell_type": "code",
   "execution_count": null,
   "metadata": {
    "colab": {},
    "colab_type": "code",
    "id": "RKcyfb0dLqhR",
    "outputId": "70c4f86d-5dd3-4f41-e193-7c982e74ccd2"
   },
   "outputs": [
    {
     "data": {
      "text/plain": [
       "array([[0.00651837, 0.99348163],\n",
       "       [0.0564255 , 0.9435745 ],\n",
       "       [0.01200255, 0.98799745],\n",
       "       ...,\n",
       "       [0.93988802, 0.06011198],\n",
       "       [0.73701162, 0.26298838],\n",
       "       [0.85783041, 0.14216959]])"
      ]
     },
     "execution_count": 38,
     "metadata": {
      "tags": []
     },
     "output_type": "execute_result"
    }
   ],
   "source": [
    "NN2_result.predict_proba(x_test)"
   ]
  },
  {
   "cell_type": "code",
   "execution_count": null,
   "metadata": {
    "colab": {},
    "colab_type": "code",
    "id": "C_uH3XiCLqhU"
   },
   "outputs": [],
   "source": [
    "# save the model to disk\n",
    "filename = 'NN2.pkl'\n",
    "pickle.dump(NN2_result, open(filename, 'wb'))"
   ]
  },
  {
   "cell_type": "code",
   "execution_count": null,
   "metadata": {
    "colab": {},
    "colab_type": "code",
    "id": "0GnWzJxRLqhX"
   },
   "outputs": [],
   "source": [
    "from sklearn.preprocessing import StandardScaler  # doctest: +SKIP\n",
    ">>> scaler = StandardScaler()  # doctest: +SKIP\n",
    ">>> # Don't cheat - fit only on training data\n",
    ">>> scaler.fit(x_train)  # doctest: +SKIP\n",
    ">>> x_train = scaler.transform(x_train)  # doctest: +SKIP\n",
    ">>> # apply same transformation to test data\n",
    ">>> x_test = scaler.transform(x_test)  # doctest: +SKIP"
   ]
  },
  {
   "cell_type": "code",
   "execution_count": null,
   "metadata": {
    "colab": {},
    "colab_type": "code",
    "id": "CK9syBUYLqhZ",
    "outputId": "c28592bf-3859-477f-cf67-962450b82d34"
   },
   "outputs": [
    {
     "name": "stderr",
     "output_type": "stream",
     "text": [
      "C:\\Conda\\lib\\site-packages\\sklearn\\neural_network\\_multilayer_perceptron.py:934: DataConversionWarning: A column-vector y was passed when a 1d array was expected. Please change the shape of y to (n_samples, ), for example using ravel().\n",
      "  y = column_or_1d(y, warn=True)\n",
      "C:\\Conda\\lib\\site-packages\\sklearn\\neural_network\\_multilayer_perceptron.py:571: ConvergenceWarning: Stochastic Optimizer: Maximum iterations (10) reached and the optimization hasn't converged yet.\n",
      "  % self.max_iter, ConvergenceWarning)\n"
     ]
    }
   ],
   "source": [
    "NN_3=MLPClassifier(hidden_layer_sizes=(500,100,50), \n",
    "                   activation='relu', \n",
    "                   solver='adam', alpha=0.0001, \n",
    "                   batch_size='auto', learning_rate='constant', \n",
    "                   learning_rate_init=0.001, power_t=0.5, \n",
    "                   max_iter=10, shuffle=True, random_state=None,\n",
    "                   tol=0.0001, verbose=False, warm_start=False, \n",
    "                   momentum=0.9, nesterovs_momentum=True,\n",
    "                   early_stopping=False, validation_fraction=0.1, \n",
    "                   beta_1=0.9, beta_2=0.999, \n",
    "                   epsilon=1e-08, n_iter_no_change=10, max_fun=15000)\n",
    "\n",
    "NN3_result=NN_3.fit(x_train, y_train)"
   ]
  },
  {
   "cell_type": "code",
   "execution_count": null,
   "metadata": {
    "colab": {},
    "colab_type": "code",
    "id": "lXugkMZtLqhc",
    "outputId": "2ae5f3ad-86a3-4029-b77a-b60558a14f4b"
   },
   "outputs": [
    {
     "data": {
      "text/plain": [
       "0.8620833333333333"
      ]
     },
     "execution_count": 51,
     "metadata": {
      "tags": []
     },
     "output_type": "execute_result"
    }
   ],
   "source": [
    "NN3_result.score(x_test, y_test)"
   ]
  },
  {
   "cell_type": "code",
   "execution_count": null,
   "metadata": {
    "colab": {},
    "colab_type": "code",
    "id": "9qQ-3f2PLqhf",
    "outputId": "042aa9b6-c1eb-4e35-db53-8d906552b63d"
   },
   "outputs": [
    {
     "name": "stdout",
     "output_type": "stream",
     "text": [
      "Confusion matrix, without normalization\n",
      "[[4919 1048]\n",
      " [ 607 5426]]\n",
      "Normalized confusion matrix\n",
      "[[0.82436735 0.17563265]\n",
      " [0.10061329 0.89938671]]\n"
     ]
    },
    {
     "data": {
      "image/png": "[encoded data removed]",
      "text/plain": [
       "<Figure size 432x288 with 2 Axes>"
      ]
     },
     "metadata": {
      "needs_background": "light",
      "tags": []
     },
     "output_type": "display_data"
    },
    {
     "data": {
      "image/png": "[encoded data removed]",
      "text/plain": [
       "<Figure size 432x288 with 2 Axes>"
      ]
     },
     "metadata": {
      "needs_background": "light",
      "tags": []
     },
     "output_type": "display_data"
    }
   ],
   "source": [
    "from sklearn.metrics import plot_confusion_matrix\n",
    "\n",
    "class_names = np.unique(df.ERC)\n",
    "\n",
    "# Plot non-normalized confusion matrix\n",
    "titles_options = [(\"Confusion matrix, without normalization\", None),\n",
    "                  (\"Normalized confusion matrix\", 'true')]\n",
    "for title, normalize in titles_options:\n",
    "    disp = plot_confusion_matrix(NN3_result, x_test, y_test,\n",
    "                                 display_labels=class_names,\n",
    "                                 cmap=plt.cm.Blues,\n",
    "                                 normalize=normalize)\n",
    "    disp.ax_.set_title(title)\n",
    "\n",
    "    print(title)\n",
    "    print(disp.confusion_matrix)\n",
    "\n",
    "plt.show()"
   ]
  },
  {
   "cell_type": "code",
   "execution_count": null,
   "metadata": {
    "colab": {},
    "colab_type": "code",
    "id": "qItqKMcWLqhi",
    "outputId": "f66206e3-e26c-4999-ad9f-87d434b9d9d5"
   },
   "outputs": [
    {
     "name": "stdout",
     "output_type": "stream",
     "text": [
      "No Skill: ROC AUC=0.500\n",
      "Neural Network: ROC AUC=0.928\n"
     ]
    },
    {
     "data": {
      "image/png": "[encoded data removed]",
      "text/plain": [
       "<Figure size 432x288 with 1 Axes>"
      ]
     },
     "metadata": {
      "needs_background": "light",
      "tags": []
     },
     "output_type": "display_data"
    }
   ],
   "source": [
    "\n",
    "# roc curve and auc\n",
    "from sklearn.datasets import make_classification\n",
    "from sklearn.linear_model import LogisticRegression\n",
    "from sklearn.model_selection import train_test_split\n",
    "from sklearn.metrics import roc_curve\n",
    "from sklearn.metrics import roc_auc_score\n",
    "from matplotlib import pyplot\n",
    "\n",
    "\n",
    "# generate a no skill prediction (majority class)\n",
    "ns_probs = [0 for _ in range(len(y_test))]\n",
    "\n",
    "# predict probabilities\n",
    "NN3_probs=NN3_result.predict_proba(x_test)\n",
    "\n",
    "# keep probabilities for the positive outcome only\n",
    "NN3_probs = NN3_probs[:, 1]\n",
    "# calculate scores\n",
    "ns_auc = roc_auc_score(y_test, ns_probs)\n",
    "NN3_auc = roc_auc_score(y_test, NN3_probs)\n",
    "\n",
    "# summarize scores\n",
    "print('No Skill: ROC AUC=%.3f' % (ns_auc))\n",
    "print('Neural Network: ROC AUC=%.3f' % (NN3_auc))\n",
    "\n",
    "# calculate roc curves\n",
    "ns_fpr, ns_tpr, _ = roc_curve(y_test, ns_probs)\n",
    "lr_fpr, lr_tpr, _ = roc_curve(y_test, NN3_probs)\n",
    "\n",
    "# plot the roc curve for the model\n",
    "pyplot.plot(ns_fpr, ns_tpr, linestyle='--', label='No Skill')\n",
    "pyplot.plot(lr_fpr, lr_tpr, marker='.', label='Neural Network')\n",
    "\n",
    "# axis labels\n",
    "pyplot.xlabel('False Positive Rate')\n",
    "pyplot.ylabel('True Positive Rate')\n",
    "\n",
    "# show the legend\n",
    "pyplot.legend()\n",
    "\n",
    "# show the plot\n",
    "pyplot.show()"
   ]
  },
  {
   "cell_type": "code",
   "execution_count": null,
   "metadata": {
    "colab": {},
    "colab_type": "code",
    "id": "MpX7ctJdLqhl"
   },
   "outputs": [],
   "source": [
    "# save the model to disk\n",
    "filename = 'NN2.pkl'\n",
    "pickle.dump(NN3_result, open(filename, 'wb'))"
   ]
  },
  {
   "cell_type": "code",
   "execution_count": null,
   "metadata": {
    "colab": {},
    "colab_type": "code",
    "id": "ems7QxDQLqho"
   },
   "outputs": [],
   "source": []
  }
 ],
 "metadata": {
  "colab": {
   "name": "NN.ipynb",
   "provenance": []
  },
  "kernelspec": {
   "display_name": "Python 3",
   "language": "python",
   "name": "python3"
  },
  "language_info": {
   "codemirror_mode": {
    "name": "ipython",
    "version": 3
   },
   "file_extension": ".py",
   "mimetype": "text/x-python",
   "name": "python",
   "nbconvert_exporter": "python",
   "pygments_lexer": "ipython3",
   "version": "3.7.4"
  }
 },
 "nbformat": 4,
 "nbformat_minor": 1
}
